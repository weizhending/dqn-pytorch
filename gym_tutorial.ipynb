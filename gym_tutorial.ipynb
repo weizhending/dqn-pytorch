{
  "nbformat": 4,
  "nbformat_minor": 0,
  "metadata": {
    "colab": {
      "name": "gym_tutorial",
      "provenance": []
    },
    "kernelspec": {
      "name": "python3",
      "display_name": "Python 3"
    },
    "language_info": {
      "name": "python"
    }
  },
  "cells": [
    {
      "cell_type": "markdown",
      "metadata": {
        "id": "259GMaUkXDKF"
      },
      "source": [
        "install dependencies for visualizing gym environment as images in coloab"
      ]
    },
    {
      "cell_type": "code",
      "metadata": {
        "id": "ceHyDRmBWfth",
        "colab": {
          "base_uri": "https://localhost:8080/"
        },
        "outputId": "f87cd14f-974d-409b-e820-4c266d5de527"
      },
      "source": [
        "!apt-get install -y xvfb x11-utils\n",
        "!pip install pyvirtualdisplay==0.2.* PyOpenGL==3.1.* PyOpenGL-accelerate==3.1.*"
      ],
      "execution_count": 1,
      "outputs": [
        {
          "output_type": "stream",
          "text": [
            "Reading package lists... Done\n",
            "Building dependency tree       \n",
            "Reading state information... Done\n",
            "The following package was automatically installed and is no longer required:\n",
            "  libnvidia-common-460\n",
            "Use 'apt autoremove' to remove it.\n",
            "The following additional packages will be installed:\n",
            "  libxxf86dga1\n",
            "Suggested packages:\n",
            "  mesa-utils\n",
            "The following NEW packages will be installed:\n",
            "  libxxf86dga1 x11-utils xvfb\n",
            "0 upgraded, 3 newly installed, 0 to remove and 34 not upgraded.\n",
            "Need to get 994 kB of archives.\n",
            "After this operation, 2,981 kB of additional disk space will be used.\n",
            "Get:1 http://archive.ubuntu.com/ubuntu bionic/main amd64 libxxf86dga1 amd64 2:1.1.4-1 [13.7 kB]\n",
            "Get:2 http://archive.ubuntu.com/ubuntu bionic/main amd64 x11-utils amd64 7.7+3build1 [196 kB]\n",
            "Get:3 http://archive.ubuntu.com/ubuntu bionic-updates/universe amd64 xvfb amd64 2:1.19.6-1ubuntu4.9 [784 kB]\n",
            "Fetched 994 kB in 1s (1,290 kB/s)\n",
            "Selecting previously unselected package libxxf86dga1:amd64.\n",
            "(Reading database ... 160690 files and directories currently installed.)\n",
            "Preparing to unpack .../libxxf86dga1_2%3a1.1.4-1_amd64.deb ...\n",
            "Unpacking libxxf86dga1:amd64 (2:1.1.4-1) ...\n",
            "Selecting previously unselected package x11-utils.\n",
            "Preparing to unpack .../x11-utils_7.7+3build1_amd64.deb ...\n",
            "Unpacking x11-utils (7.7+3build1) ...\n",
            "Selecting previously unselected package xvfb.\n",
            "Preparing to unpack .../xvfb_2%3a1.19.6-1ubuntu4.9_amd64.deb ...\n",
            "Unpacking xvfb (2:1.19.6-1ubuntu4.9) ...\n",
            "Setting up xvfb (2:1.19.6-1ubuntu4.9) ...\n",
            "Setting up libxxf86dga1:amd64 (2:1.1.4-1) ...\n",
            "Setting up x11-utils (7.7+3build1) ...\n",
            "Processing triggers for man-db (2.8.3-2ubuntu0.1) ...\n",
            "Processing triggers for libc-bin (2.27-3ubuntu1.2) ...\n",
            "/sbin/ldconfig.real: /usr/local/lib/python3.7/dist-packages/ideep4py/lib/libmkldnn.so.0 is not a symbolic link\n",
            "\n",
            "Collecting pyvirtualdisplay==0.2.*\n",
            "  Downloading https://files.pythonhosted.org/packages/69/ec/8221a07850d69fa3c57c02e526edd23d18c7c05d58ed103e3b19172757c1/PyVirtualDisplay-0.2.5-py2.py3-none-any.whl\n",
            "Requirement already satisfied: PyOpenGL==3.1.* in /usr/local/lib/python3.7/dist-packages (3.1.5)\n",
            "Collecting PyOpenGL-accelerate==3.1.*\n",
            "\u001b[?25l  Downloading https://files.pythonhosted.org/packages/a2/3c/f42a62b7784c04b20f8b88d6c8ad04f4f20b0767b721102418aad94d8389/PyOpenGL-accelerate-3.1.5.tar.gz (538kB)\n",
            "\u001b[K     |████████████████████████████████| 542kB 2.8MB/s \n",
            "\u001b[?25hCollecting EasyProcess\n",
            "  Downloading https://files.pythonhosted.org/packages/48/3c/75573613641c90c6d094059ac28adb748560d99bd27ee6f80cce398f404e/EasyProcess-0.3-py2.py3-none-any.whl\n",
            "Building wheels for collected packages: PyOpenGL-accelerate\n",
            "  Building wheel for PyOpenGL-accelerate (setup.py) ... \u001b[?25l\u001b[?25hdone\n",
            "  Created wheel for PyOpenGL-accelerate: filename=PyOpenGL_accelerate-3.1.5-cp37-cp37m-linux_x86_64.whl size=1599189 sha256=a8c4ffa002a83ac832d51c3ce283234e9ab315e91592010144d56df540a0bdd3\n",
            "  Stored in directory: /root/.cache/pip/wheels/bd/21/77/99670ceca25fddb3c2b60a7ae44644b8253d1006e8ec417bcc\n",
            "Successfully built PyOpenGL-accelerate\n",
            "Installing collected packages: EasyProcess, pyvirtualdisplay, PyOpenGL-accelerate\n",
            "Successfully installed EasyProcess-0.3 PyOpenGL-accelerate-3.1.5 pyvirtualdisplay-0.2.5\n"
          ],
          "name": "stdout"
        }
      ]
    },
    {
      "cell_type": "code",
      "metadata": {
        "id": "DxM2y3uxKaTk"
      },
      "source": [
        "import pyvirtualdisplay\n",
        "\n",
        "_display = pyvirtualdisplay.Display(visible=False, size=(1400, 900)) # use False with Xvfb\n",
        "_ = _display.start()"
      ],
      "execution_count": 2,
      "outputs": []
    },
    {
      "cell_type": "code",
      "metadata": {
        "id": "p-a4pCwQKuA2"
      },
      "source": [
        "from IPython import display\n",
        "import matplotlib.pyplot as plt\n",
        "%matplotlib inline"
      ],
      "execution_count": 3,
      "outputs": []
    },
    {
      "cell_type": "code",
      "metadata": {
        "id": "HHuM2qATKh4z"
      },
      "source": [
        "import gym"
      ],
      "execution_count": 4,
      "outputs": []
    },
    {
      "cell_type": "markdown",
      "metadata": {
        "id": "W_A8jBsWYF5G"
      },
      "source": [
        "Display CartPole game"
      ]
    },
    {
      "cell_type": "code",
      "metadata": {
        "colab": {
          "base_uri": "https://localhost:8080/",
          "height": 269
        },
        "id": "TQ81lC55Kw0g",
        "outputId": "a2d8b4d7-3308-4564-a2dc-071fdc2a9542"
      },
      "source": [
        "env = gym.make(\"CartPole-v0\")\n",
        "\n",
        "env.reset()\n",
        "img = plt.imshow(env.render(mode='rgb_array'))\n",
        "for _ in range(100):\n",
        "  img.set_data(env.render(mode='rgb_array'))\n",
        "  display.display(plt.gcf())\n",
        "  display.clear_output(wait=True)\n",
        "  action = env.action_space.sample()\n",
        "  env.step(action)"
      ],
      "execution_count": 6,
      "outputs": [
        {
          "output_type": "display_data",
          "data": {
            "image/png": "[encoded data removed]",
            "text/plain": [
              "<Figure size 432x288 with 1 Axes>"
            ]
          },
          "metadata": {
            "tags": [],
            "needs_background": "light"
          }
        }
      ]
    },
    {
      "cell_type": "code",
      "metadata": {
        "colab": {
          "base_uri": "https://localhost:8080/",
          "height": 269
        },
        "id": "upBVwevfRNQq",
        "outputId": "88f9a49f-3d85-4b8a-c76a-16a993261107"
      },
      "source": [
        "env1 = gym.make('PongNoFrameskip-v4')\n",
        "\n",
        "env1.reset()\n",
        "img = plt.imshow(env1.render(mode='rgb_array'))\n",
        "for _ in range(200):\n",
        "  img.set_data(env1.render(mode='rgb_array'))\n",
        "  display.display(plt.gcf())\n",
        "  display.clear_output(wait=True)\n",
        "  action = env1.action_space.sample()\n",
        "  env1.step(action)"
      ],
      "execution_count": 7,
      "outputs": [
        {
          "output_type": "display_data",
          "data": {
            "image/png": "[encoded data removed]",
            "text/plain": [
              "<Figure size 432x288 with 1 Axes>"
            ]
          },
          "metadata": {
            "tags": [],
            "needs_background": "light"
          }
        }
      ]
    },
    {
      "cell_type": "code",
      "metadata": {
        "id": "GsYmoxxbRoUY",
        "colab": {
          "base_uri": "https://localhost:8080/"
        },
        "outputId": "7606810a-68b4-4d13-fbb3-774489f2fc5a"
      },
      "source": [
        "env1.observation_space"
      ],
      "execution_count": 8,
      "outputs": [
        {
          "output_type": "execute_result",
          "data": {
            "text/plain": [
              "Box(0, 255, (210, 160, 3), uint8)"
            ]
          },
          "metadata": {
            "tags": []
          },
          "execution_count": 8
        }
      ]
    },
    {
      "cell_type": "code",
      "metadata": {
        "colab": {
          "base_uri": "https://localhost:8080/"
        },
        "id": "xcIH5ciATc6K",
        "outputId": "b7f915cd-bb36-4149-e890-d6ec17f3ca93"
      },
      "source": [
        "env1.action_space"
      ],
      "execution_count": 9,
      "outputs": [
        {
          "output_type": "execute_result",
          "data": {
            "text/plain": [
              "Discrete(6)"
            ]
          },
          "metadata": {
            "tags": []
          },
          "execution_count": 9
        }
      ]
    },
    {
      "cell_type": "code",
      "metadata": {
        "colab": {
          "base_uri": "https://localhost:8080/"
        },
        "id": "0FYE82dxTmQV",
        "outputId": "b814608c-bb7a-4e3e-b7fc-5f523c7c0339"
      },
      "source": [
        "env1.action_space.sample()"
      ],
      "execution_count": 10,
      "outputs": [
        {
          "output_type": "execute_result",
          "data": {
            "text/plain": [
              "1"
            ]
          },
          "metadata": {
            "tags": []
          },
          "execution_count": 10
        }
      ]
    },
    {
      "cell_type": "code",
      "metadata": {
        "id": "GggyTqoLTwBN",
        "colab": {
          "base_uri": "https://localhost:8080/"
        },
        "outputId": "d3e20342-db84-4fb8-e421-6f197e5ddaa7"
      },
      "source": [
        "for _ in range(20):\n",
        "    print(env1.action_space.sample())"
      ],
      "execution_count": 11,
      "outputs": [
        {
          "output_type": "stream",
          "text": [
            "3\n",
            "0\n",
            "3\n",
            "2\n",
            "5\n",
            "5\n",
            "3\n",
            "5\n",
            "2\n",
            "4\n",
            "1\n",
            "2\n",
            "2\n",
            "0\n",
            "2\n",
            "1\n",
            "4\n",
            "5\n",
            "0\n",
            "5\n"
          ],
          "name": "stdout"
        }
      ]
    },
    {
      "cell_type": "code",
      "metadata": {
        "id": "aQqvVhy1T3EE",
        "colab": {
          "base_uri": "https://localhost:8080/"
        },
        "outputId": "895c27fb-d622-4f4d-a25d-4003cb21af12"
      },
      "source": [
        "env1.observation_space.sample()"
      ],
      "execution_count": 12,
      "outputs": [
        {
          "output_type": "execute_result",
          "data": {
            "text/plain": [
              "array([[[241, 201, 161],\n",
              "        [151,  72, 179],\n",
              "        [116,  35, 176],\n",
              "        ...,\n",
              "        [ 87,  11,  14],\n",
              "        [ 93,   7, 211],\n",
              "        [194,  30,  92]],\n",
              "\n",
              "       [[248,  82, 166],\n",
              "        [147, 156, 156],\n",
              "        [173, 113,  17],\n",
              "        ...,\n",
              "        [172, 110,  15],\n",
              "        [237, 222, 175],\n",
              "        [197,   3, 186]],\n",
              "\n",
              "       [[246, 131, 245],\n",
              "        [168, 100, 241],\n",
              "        [ 46,   6, 118],\n",
              "        ...,\n",
              "        [233, 111,  39],\n",
              "        [182, 115, 255],\n",
              "        [ 54, 200, 166]],\n",
              "\n",
              "       ...,\n",
              "\n",
              "       [[117, 135, 212],\n",
              "        [ 31,  63,  74],\n",
              "        [219, 140,  75],\n",
              "        ...,\n",
              "        [211, 173,  12],\n",
              "        [ 52, 233, 170],\n",
              "        [ 81, 245, 217]],\n",
              "\n",
              "       [[ 96, 138, 253],\n",
              "        [124, 251,  98],\n",
              "        [160, 195,  22],\n",
              "        ...,\n",
              "        [139, 136, 186],\n",
              "        [ 95, 156, 140],\n",
              "        [ 18, 238,  43]],\n",
              "\n",
              "       [[ 96, 227, 186],\n",
              "        [ 41, 139, 119],\n",
              "        [158, 172,   0],\n",
              "        ...,\n",
              "        [ 58, 134,  94],\n",
              "        [ 33, 213, 204],\n",
              "        [176, 221, 137]]], dtype=uint8)"
            ]
          },
          "metadata": {
            "tags": []
          },
          "execution_count": 12
        }
      ]
    },
    {
      "cell_type": "code",
      "metadata": {
        "id": "XPmZbb5kUCrz",
        "colab": {
          "base_uri": "https://localhost:8080/"
        },
        "outputId": "64e2fb79-0fe6-479f-b847-6a7516c81b5b"
      },
      "source": [
        "env1.step(env1.action_space.sample())"
      ],
      "execution_count": 13,
      "outputs": [
        {
          "output_type": "execute_result",
          "data": {
            "text/plain": [
              "(array([[[  0,   0,   0],\n",
              "         [  0,   0,   0],\n",
              "         [  0,   0,   0],\n",
              "         ...,\n",
              "         [144,  72,  17],\n",
              "         [144,  72,  17],\n",
              "         [144,  72,  17]],\n",
              " \n",
              "        [[144,  72,  17],\n",
              "         [144,  72,  17],\n",
              "         [144,  72,  17],\n",
              "         ...,\n",
              "         [144,  72,  17],\n",
              "         [144,  72,  17],\n",
              "         [144,  72,  17]],\n",
              " \n",
              "        [[144,  72,  17],\n",
              "         [144,  72,  17],\n",
              "         [144,  72,  17],\n",
              "         ...,\n",
              "         [144,  72,  17],\n",
              "         [144,  72,  17],\n",
              "         [144,  72,  17]],\n",
              " \n",
              "        ...,\n",
              " \n",
              "        [[236, 236, 236],\n",
              "         [236, 236, 236],\n",
              "         [236, 236, 236],\n",
              "         ...,\n",
              "         [236, 236, 236],\n",
              "         [236, 236, 236],\n",
              "         [236, 236, 236]],\n",
              " \n",
              "        [[236, 236, 236],\n",
              "         [236, 236, 236],\n",
              "         [236, 236, 236],\n",
              "         ...,\n",
              "         [236, 236, 236],\n",
              "         [236, 236, 236],\n",
              "         [236, 236, 236]],\n",
              " \n",
              "        [[236, 236, 236],\n",
              "         [236, 236, 236],\n",
              "         [236, 236, 236],\n",
              "         ...,\n",
              "         [236, 236, 236],\n",
              "         [236, 236, 236],\n",
              "         [236, 236, 236]]], dtype=uint8), 0.0, False, {'ale.lives': 0})"
            ]
          },
          "metadata": {
            "tags": []
          },
          "execution_count": 13
        }
      ]
    },
    {
      "cell_type": "code",
      "metadata": {
        "id": "m-F-yqjMdAxv",
        "colab": {
          "base_uri": "https://localhost:8080/"
        },
        "outputId": "5d4c76a8-fc5e-40f1-a9f2-b8aa65b2e30c"
      },
      "source": [
        "total_rewards = 0\n",
        "total_steps = 0\n",
        "env1.reset()\n",
        "\n",
        "while True:\n",
        "    action = env1.action_space.sample()\n",
        "    obs, reward, done, _ = env1.step(action)\n",
        "    total_rewards += reward\n",
        "    total_steps += 1\n",
        "\n",
        "    if done:\n",
        "        break\n",
        "print(f\"Episodes done in {total_steps} steps, total reward {total_rewards}\")"
      ],
      "execution_count": 17,
      "outputs": [
        {
          "output_type": "stream",
          "text": [
            "Episodes done in 4091 steps, total reward -21.0\n"
          ],
          "name": "stdout"
        }
      ]
    },
    {
      "cell_type": "code",
      "metadata": {
        "id": "Mc5xxRh4d8Wi"
      },
      "source": [
        ""
      ],
      "execution_count": 17,
      "outputs": []
    }
  ]
}