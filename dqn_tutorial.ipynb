{
  "nbformat": 4,
  "nbformat_minor": 0,
  "metadata": {
    "kernelspec": {
      "language": "python",
      "display_name": "Python 3",
      "name": "python3"
    },
    "language_info": {
      "name": "python",
      "version": "3.7.10",
      "mimetype": "text/x-python",
      "codemirror_mode": {
        "name": "ipython",
        "version": 3
      },
      "pygments_lexer": "ipython3",
      "nbconvert_exporter": "python",
      "file_extension": ".py"
    },
    "colab": {
      "name": "dqn-tutorial.ipynb",
      "provenance": []
    }
  },
  "cells": [
    {
      "cell_type": "code",
      "metadata": {
        "trusted": true,
        "id": "sJmzNMrPksr5"
      },
      "source": [
        "from collections import namedtuple\n",
        "from itertools import count\n",
        "import math\n",
        "import random\n",
        "import numpy as np\n",
        "import time\n",
        "\n",
        "import torch\n",
        "import torch.nn as nn\n",
        "import torch.optim as optim\n",
        "import torch.nn.functional as F\n",
        "import torchvision.transforms as T\n",
        "\n",
        "import gym\n",
        "\n",
        "# download wrappers.py from https://github.com/weizhending/dqn-pytorch.git\n",
        "from wrappers import *"
      ],
      "execution_count": 13,
      "outputs": []
    },
    {
      "cell_type": "code",
      "metadata": {
        "trusted": true,
        "id": "UZm2Qdwqksr5"
      },
      "source": [
        "class DQN(nn.Module):\n",
        "    def __init__(self, in_channels=4, n_actions=6):\n",
        "\n",
        "        super(DQN, self).__init__()\n",
        "        self.conv1 = nn.Conv2d(in_channels, 32, kernel_size=8, stride=4)\n",
        "        self.conv2 = nn.Conv2d(32, 64, kernel_size=4, stride=2)\n",
        "        self.conv3 = nn.Conv2d(64, 64, kernel_size=3, stride=1)\n",
        "        self.fc4 = nn.Linear(7 * 7 * 64, 512)\n",
        "        self.head = nn.Linear(512, n_actions)\n",
        "\n",
        "    def forward(self, x):\n",
        "        x = x.float() / 255\n",
        "        x = F.relu(self.conv1(x))\n",
        "        x = F.relu(self.conv2(x))\n",
        "        x = F.relu(self.conv3(x))\n",
        "        x = F.relu(self.fc4(x.view(x.size(0), -1)))\n",
        "        return self.head(x)"
      ],
      "execution_count": 14,
      "outputs": []
    },
    {
      "cell_type": "code",
      "metadata": {
        "trusted": true,
        "id": "zTFLVHHZksr6"
      },
      "source": [
        "Transition = namedtuple('Transion', \n",
        "                        ('state', 'action', 'next_state', 'reward'))\n",
        "\n",
        "class ReplayMemory(object):\n",
        "    def __init__(self, capacity):\n",
        "        self.capacity = capacity\n",
        "        self.memory = []\n",
        "        self.position = 0\n",
        "        \n",
        "    def push(self, *args):\n",
        "        if len(self.memory) < self.capacity:\n",
        "            self.memory.append(None)\n",
        "        self.memory[self.position] = Transition(*args)\n",
        "        self.position = (self.position + 1) % self.capacity\n",
        "        \n",
        "    def sample(self, batch_size):\n",
        "        return random.sample(self.memory, batch_size)\n",
        "    \n",
        "    def __len__(self):\n",
        "        return len(self.memory)"
      ],
      "execution_count": 15,
      "outputs": []
    },
    {
      "cell_type": "code",
      "metadata": {
        "trusted": true,
        "id": "oK6d1JrEksr6"
      },
      "source": [
        "def select_action(state):\n",
        "    global steps_done\n",
        "    sample = random.random()\n",
        "    eps_threshold = EPS_END + (EPS_START - EPS_END) * math.exp(-1. * steps_done / EPS_DECAY)\n",
        "    steps_done += 1\n",
        "    if sample > eps_threshold:\n",
        "        with torch.no_grad():\n",
        "            return policy_net(state.to(device)).max(1)[1].view(1,1)\n",
        "    else:\n",
        "        return torch.tensor([[random.randrange(4)]], device=device, dtype=torch.long)"
      ],
      "execution_count": 16,
      "outputs": []
    },
    {
      "cell_type": "code",
      "metadata": {
        "trusted": true,
        "id": "mIZlAaIbksr7"
      },
      "source": [
        "def optimize_model():\n",
        "    if len(memory) < BATCH_SIZE:\n",
        "        return\n",
        "    transitions = memory.sample(BATCH_SIZE)\n",
        "    batch = Transition(*zip(*transitions))\n",
        "\n",
        "    actions = tuple((map(lambda a: torch.tensor([[a]], device=device), batch.action)))\n",
        "    rewards = tuple((map(lambda r: torch.tensor([r], device=device), batch.reward)))\n",
        "    \n",
        "    non_final_mask = torch.tensor(\n",
        "        tuple(map(lambda s: s is not None, batch.next_state)),\n",
        "        device=device, dtype=torch.bool)\n",
        "    non_final_next_states = torch.cat([s for s in batch.next_state\n",
        "                                       if s is not None]).to(device)\n",
        "    \n",
        "    state_batch = torch.cat(batch.state).to(device)\n",
        "    action_batch = torch.cat(actions)\n",
        "    reward_batch = torch.cat(rewards)\n",
        "\n",
        "    state_action_values = policy_net(state_batch).gather(1, action_batch)\n",
        "\n",
        "    next_state_values = torch.zeros(BATCH_SIZE, device=device)\n",
        "    next_state_values[non_final_mask] = target_net(non_final_next_states).max(1)[0].detach()\n",
        "    expected_state_action_values = (next_state_values * GAMMA) + reward_batch\n",
        "\n",
        "    loss = F.smooth_l1_loss(state_action_values, expected_state_action_values.unsqueeze(1))\n",
        "\n",
        "    optimizer.zero_grad()\n",
        "    loss.backward()\n",
        "    for param in policy_net.parameters():\n",
        "        param.grad.data.clamp_(-1, 1)\n",
        "    optimizer.step()"
      ],
      "execution_count": 17,
      "outputs": []
    },
    {
      "cell_type": "code",
      "metadata": {
        "trusted": true,
        "id": "AXgV74zVksr8"
      },
      "source": [
        "def get_state(obs):\n",
        "    state = np.array(obs)\n",
        "    state = state.transpose((2, 0, 1))\n",
        "    state = torch.from_numpy(state)\n",
        "    return state.unsqueeze(0)"
      ],
      "execution_count": 18,
      "outputs": []
    },
    {
      "cell_type": "code",
      "metadata": {
        "trusted": true,
        "id": "Jj-vCHMJksr8"
      },
      "source": [
        "def train(env, n_episodes, render=False):\n",
        "    for episode in range(n_episodes):\n",
        "        obs = env.reset()\n",
        "        state = get_state(obs)\n",
        "        total_reward = 0.0\n",
        "        for t in count():\n",
        "            action = select_action(state)\n",
        "\n",
        "            if render:\n",
        "                env.render()\n",
        "\n",
        "            obs, reward, done, info = env.step(action)\n",
        "\n",
        "            total_reward += reward\n",
        "\n",
        "            if not done:\n",
        "                next_state = get_state(obs)\n",
        "            else:\n",
        "                next_state = None\n",
        "            \n",
        "            rewards = torch.tensor([reward], device=device)\n",
        "\n",
        "            memory.push(state, action, next_state, reward)\n",
        "            state = next_state\n",
        "\n",
        "            if steps_done > INITIAL_MEMORY:\n",
        "                optimize_model()\n",
        "\n",
        "                if steps_done % TARGET_UPDATE == 0:\n",
        "                    target_net.load_state_dict(policy_net.state_dict())\n",
        "            \n",
        "            if done:\n",
        "                break\n",
        "        if episode % 20 == 0:\n",
        "            print('Total steps: {} \\t Episode: {}/{} \\t Total reward: {}'.format(steps_done, episode, t, total_reward))\n",
        "        \n",
        "    env.close()\n",
        "    return"
      ],
      "execution_count": 19,
      "outputs": []
    },
    {
      "cell_type": "code",
      "metadata": {
        "trusted": true,
        "id": "nL88inZAksr9"
      },
      "source": [
        "def test(env, n_episodes, policy, render=True):\n",
        "    env = gym.wrappers.Monitor(env, './videos/' + 'dqn_pong_video')\n",
        "    for episode in range(n_episodes):\n",
        "        obs = env.reset()\n",
        "        state = get_state(obs)\n",
        "        total_reward = 0.0\n",
        "        for t in count():\n",
        "            action = policy(state.to(device)).max(1)[1].view(1,1)\n",
        "\n",
        "            if render:\n",
        "                env.render()\n",
        "                time.sleep(0.02)\n",
        "\n",
        "            obs, reward, done, info = env.step(action)\n",
        "\n",
        "            total_reward += reward\n",
        "\n",
        "            if not done:\n",
        "                next_state = get_state(obs)\n",
        "            else:\n",
        "                next_state = None\n",
        "\n",
        "            state = next_state\n",
        "\n",
        "            if done:\n",
        "                print(\"Finished Episode {} with reward {}\".format(episode, total_reward))\n",
        "                break\n",
        "\n",
        "    env.close()\n",
        "    return"
      ],
      "execution_count": 20,
      "outputs": []
    },
    {
      "cell_type": "code",
      "metadata": {
        "trusted": true,
        "id": "X3vMEHAaksr_"
      },
      "source": [
        "BATCH_SIZE = 32\n",
        "GAMMA = 0.99\n",
        "EPS_START = 1\n",
        "EPS_END = 0.02\n",
        "EPS_DECAY = 1000000\n",
        "TARGET_UPDATE = 1000\n",
        "RENDER = False\n",
        "lr = 1e-4\n",
        "INITIAL_MEMORY = 10000\n",
        "MEMORY_SIZE = 10 * INITIAL_MEMORY\n",
        "\n",
        "device = torch.device(\"cuda\" if torch.cuda.is_available() else \"cpu\")\n",
        "\n",
        "policy_net = DQN(n_actions=4).to(device)\n",
        "target_net = DQN(n_actions=4).to(device)\n",
        "target_net.load_state_dict(policy_net.state_dict())\n",
        "\n",
        "optimizer = optim.Adam(policy_net.parameters(), lr=lr)\n",
        "steps_done = 0\n",
        "\n",
        "env = gym.make(\"PongNoFrameskip-v4\")\n",
        "env = make_env(env)\n",
        "\n",
        "memory = ReplayMemory(MEMORY_SIZE)"
      ],
      "execution_count": 21,
      "outputs": []
    },
    {
      "cell_type": "code",
      "metadata": {
        "trusted": true,
        "id": "aTIHIMEbksr_",
        "colab": {
          "base_uri": "https://localhost:8080/"
        },
        "outputId": "6b5b6ddd-fcf8-4dc0-b9d2-09b774743a16"
      },
      "source": [
        "train(env, 10)"
      ],
      "execution_count": 22,
      "outputs": [
        {
          "output_type": "stream",
          "text": [
            "Total steps: 817 \t Episode: 0/816 \t Total reward: -21.0\n"
          ],
          "name": "stdout"
        }
      ]
    },
    {
      "cell_type": "code",
      "metadata": {
        "trusted": true,
        "colab": {
          "base_uri": "https://localhost:8080/"
        },
        "id": "v7sf2I3rkssA",
        "outputId": "636722d3-d6b7-412a-ff32-490da3fee75e"
      },
      "source": [
        "torch.save(policy_net, \"dqn_pong_model\")\n",
        "policy_net = torch.load(\"dqn_pong_model_800_episode\", map_location=torch.device(device))\n",
        "test(env, 1, policy_net, render=False)"
      ],
      "execution_count": 27,
      "outputs": [
        {
          "output_type": "stream",
          "text": [
            "Finished Episode 0 with reward 20.0\n"
          ],
          "name": "stdout"
        }
      ]
    }
  ]
}